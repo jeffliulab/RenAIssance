{
 "cells": [
  {
   "cell_type": "markdown",
   "metadata": {},
   "source": [
    "In this notebook file, I will use my own model to finish two part of work:\n",
    "1. use ViT to extract main text\n",
    "2. use OCR to recognize the text correctly\n",
    "\n",
    "In the notebook, the content is shown below:\n",
    "0. The environment requirements\n",
    "1. Convert the pdf raw files into images\n",
    "2. Choose 12 images to make annotations using LabelMe"
   ]
  },
  {
   "cell_type": "code",
   "execution_count": null,
   "metadata": {},
   "outputs": [
    {
     "name": "stdout",
     "output_type": "stream",
     "text": [
      "Requirement already satisfied: pdf2image in /home/jeffliu/miniconda3/envs/ml/lib/python3.10/site-packages (1.17.0)\n",
      "Requirement already satisfied: pillow in /home/jeffliu/miniconda3/envs/ml/lib/python3.10/site-packages (from pdf2image) (11.1.0)\n"
     ]
    }
   ],
   "source": [
    "# 0. The environment prerequisites:\n",
    "!pip install pdf2image\n",
    "# install poppler\n",
    "!pip install labelme # use labelme to make annotations"
   ]
  },
  {
   "cell_type": "code",
   "execution_count": null,
   "metadata": {},
   "outputs": [],
   "source": [
    "# 1. Convert the pdf raw files into images\n",
    "\n",
    "import os\n",
    "import glob\n",
    "from pdf2image import convert_from_path\n",
    "\n",
    "pdf_folder = \"data/raw\"\n",
    "output_root = \"data/convert_image\"\n",
    "os.makedirs(output_root, exist_ok=True)\n",
    "\n",
    "pdf_files = glob.glob(os.path.join(pdf_folder, \"*.pdf\"))\n",
    "print(\"Found PDF files:\", pdf_files)\n",
    "\n",
    "dpi_value = 300\n",
    "\n",
    "for pdf_file in pdf_files:\n",
    "    print(f\"\\nConverting: {pdf_file}\")\n",
    "    base_name = os.path.splitext(os.path.basename(pdf_file))[0]\n",
    "\n",
    "    pdf_output_dir = os.path.join(output_root, base_name)\n",
    "    os.makedirs(pdf_output_dir, exist_ok=True)\n",
    "    \n",
    "    # LOAD PAGE ONE BY ONE, LOWER CONSUMPTION OF PERFORMANCE\n",
    "    chunk_size = 10\n",
    "    start_page = 1\n",
    "    end_page = chunk_size\n",
    "\n",
    "    # 6.pdf is too large for 300 dpi\n",
    "    if base_name == \"6\":  # Use 150 DPI for 6.pdf\n",
    "        dpi_value = 150\n",
    "    else:  # Keep 300 DPI for 1.pdf-5.pdf\n",
    "        dpi_value = 300\n",
    "\n",
    "    while True:\n",
    "        pages = convert_from_path(pdf_file, dpi=dpi_value,\n",
    "                                  first_page=start_page,\n",
    "                                  last_page=end_page)\n",
    "\n",
    "        if not pages:\n",
    "            break\n",
    "\n",
    "        # SAVE PAGE ONE BY ONE\n",
    "        for i, page in enumerate(pages, start=start_page):\n",
    "            out_path = os.path.join(pdf_output_dir, f\"{base_name}_page_{i:03d}.png\")\n",
    "            page.save(out_path, \"PNG\")\n",
    "            print(f\"  Saved: {out_path}\")\n",
    "\n",
    "        # GOING TO NEXT PAGE\n",
    "        start_page = end_page + 1\n",
    "        end_page += chunk_size\n",
    "\n",
    "print(\"\\nCONVERTING SUCCESSFULLY.\")\n"
   ]
  },
  {
   "cell_type": "code",
   "execution_count": null,
   "metadata": {},
   "outputs": [],
   "source": [
    "# 2. Choose 12 images to make annotations using LabelMe\n",
    "\n"
   ]
  }
 ],
 "metadata": {
  "kernelspec": {
   "display_name": "ml",
   "language": "python",
   "name": "python3"
  },
  "language_info": {
   "codemirror_mode": {
    "name": "ipython",
    "version": 3
   },
   "file_extension": ".py",
   "mimetype": "text/x-python",
   "name": "python",
   "nbconvert_exporter": "python",
   "pygments_lexer": "ipython3",
   "version": "3.10.16"
  }
 },
 "nbformat": 4,
 "nbformat_minor": 2
}
